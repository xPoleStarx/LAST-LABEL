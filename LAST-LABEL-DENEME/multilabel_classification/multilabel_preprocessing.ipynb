{
 "cells": [
  {
   "cell_type": "code",
   "execution_count": 9,
   "metadata": {},
   "outputs": [],
   "source": [
    "import pandas as pd\n",
    "import numpy as np\n",
    "from sklearn.preprocessing import MultiLabelBinarizer, LabelEncoder\n",
    "from torch.utils.data import DataLoader, TensorDataset\n",
    "from sklearn.model_selection import train_test_split\n",
    "import joblib\n",
    "import torch"
   ]
  },
  {
   "cell_type": "code",
   "execution_count": 10,
   "metadata": {},
   "outputs": [],
   "source": [
    "df = pd.read_csv('labeled_ml.csv')"
   ]
  },
  {
   "cell_type": "code",
   "execution_count": 11,
   "metadata": {},
   "outputs": [
    {
     "data": {
      "text/html": [
       "<div>\n",
       "<style scoped>\n",
       "    .dataframe tbody tr th:only-of-type {\n",
       "        vertical-align: middle;\n",
       "    }\n",
       "\n",
       "    .dataframe tbody tr th {\n",
       "        vertical-align: top;\n",
       "    }\n",
       "\n",
       "    .dataframe thead th {\n",
       "        text-align: right;\n",
       "    }\n",
       "</style>\n",
       "<table border=\"1\" class=\"dataframe\">\n",
       "  <thead>\n",
       "    <tr style=\"text-align: right;\">\n",
       "      <th></th>\n",
       "      <th>Sensor ID</th>\n",
       "      <th>Date</th>\n",
       "      <th>o2</th>\n",
       "      <th>co2</th>\n",
       "      <th>temp</th>\n",
       "      <th>label</th>\n",
       "      <th>fruit</th>\n",
       "    </tr>\n",
       "  </thead>\n",
       "  <tbody>\n",
       "    <tr>\n",
       "      <th>0</th>\n",
       "      <td>1</td>\n",
       "      <td>2023-12-21 00:00:00</td>\n",
       "      <td>20.711216</td>\n",
       "      <td>0.032239</td>\n",
       "      <td>1.287622</td>\n",
       "      <td>Normal</td>\n",
       "      <td>cherry</td>\n",
       "    </tr>\n",
       "    <tr>\n",
       "      <th>1</th>\n",
       "      <td>1</td>\n",
       "      <td>2023-12-21 01:00:00</td>\n",
       "      <td>20.711216</td>\n",
       "      <td>0.032239</td>\n",
       "      <td>1.287622</td>\n",
       "      <td>Normal</td>\n",
       "      <td>cherry</td>\n",
       "    </tr>\n",
       "    <tr>\n",
       "      <th>2</th>\n",
       "      <td>1</td>\n",
       "      <td>2023-12-21 02:00:00</td>\n",
       "      <td>20.752923</td>\n",
       "      <td>0.162936</td>\n",
       "      <td>0.721040</td>\n",
       "      <td>Normal</td>\n",
       "      <td>cherry</td>\n",
       "    </tr>\n",
       "    <tr>\n",
       "      <th>3</th>\n",
       "      <td>1</td>\n",
       "      <td>2023-12-21 03:00:00</td>\n",
       "      <td>20.752923</td>\n",
       "      <td>0.162936</td>\n",
       "      <td>0.721040</td>\n",
       "      <td>Normal</td>\n",
       "      <td>cherry</td>\n",
       "    </tr>\n",
       "    <tr>\n",
       "      <th>4</th>\n",
       "      <td>1</td>\n",
       "      <td>2023-12-21 04:00:00</td>\n",
       "      <td>20.514075</td>\n",
       "      <td>0.074559</td>\n",
       "      <td>0.085129</td>\n",
       "      <td>Normal</td>\n",
       "      <td>cherry</td>\n",
       "    </tr>\n",
       "  </tbody>\n",
       "</table>\n",
       "</div>"
      ],
      "text/plain": [
       "   Sensor ID                 Date         o2       co2      temp   label  \\\n",
       "0          1  2023-12-21 00:00:00  20.711216  0.032239  1.287622  Normal   \n",
       "1          1  2023-12-21 01:00:00  20.711216  0.032239  1.287622  Normal   \n",
       "2          1  2023-12-21 02:00:00  20.752923  0.162936  0.721040  Normal   \n",
       "3          1  2023-12-21 03:00:00  20.752923  0.162936  0.721040  Normal   \n",
       "4          1  2023-12-21 04:00:00  20.514075  0.074559  0.085129  Normal   \n",
       "\n",
       "    fruit  \n",
       "0  cherry  \n",
       "1  cherry  \n",
       "2  cherry  \n",
       "3  cherry  \n",
       "4  cherry  "
      ]
     },
     "execution_count": 11,
     "metadata": {},
     "output_type": "execute_result"
    }
   ],
   "source": [
    "df.head()"
   ]
  },
  {
   "cell_type": "code",
   "execution_count": 12,
   "metadata": {},
   "outputs": [
    {
     "data": {
      "text/plain": [
       "Sensor ID    0\n",
       "Date         0\n",
       "o2           0\n",
       "co2          0\n",
       "temp         0\n",
       "label        0\n",
       "fruit        0\n",
       "dtype: int64"
      ]
     },
     "execution_count": 12,
     "metadata": {},
     "output_type": "execute_result"
    }
   ],
   "source": [
    "df.isna().sum()"
   ]
  },
  {
   "cell_type": "code",
   "execution_count": 13,
   "metadata": {},
   "outputs": [],
   "source": [
    "df['label'] = df['label'].apply(lambda x: x.split(','))"
   ]
  },
  {
   "cell_type": "code",
   "execution_count": 14,
   "metadata": {},
   "outputs": [
    {
     "data": {
      "text/html": [
       "<div>\n",
       "<style scoped>\n",
       "    .dataframe tbody tr th:only-of-type {\n",
       "        vertical-align: middle;\n",
       "    }\n",
       "\n",
       "    .dataframe tbody tr th {\n",
       "        vertical-align: top;\n",
       "    }\n",
       "\n",
       "    .dataframe thead th {\n",
       "        text-align: right;\n",
       "    }\n",
       "</style>\n",
       "<table border=\"1\" class=\"dataframe\">\n",
       "  <thead>\n",
       "    <tr style=\"text-align: right;\">\n",
       "      <th></th>\n",
       "      <th>Sensor ID</th>\n",
       "      <th>Date</th>\n",
       "      <th>o2</th>\n",
       "      <th>co2</th>\n",
       "      <th>temp</th>\n",
       "      <th>label</th>\n",
       "      <th>fruit</th>\n",
       "    </tr>\n",
       "  </thead>\n",
       "  <tbody>\n",
       "    <tr>\n",
       "      <th>0</th>\n",
       "      <td>1</td>\n",
       "      <td>2023-12-21 00:00:00</td>\n",
       "      <td>20.711216</td>\n",
       "      <td>0.032239</td>\n",
       "      <td>1.287622</td>\n",
       "      <td>[Normal]</td>\n",
       "      <td>cherry</td>\n",
       "    </tr>\n",
       "    <tr>\n",
       "      <th>1</th>\n",
       "      <td>1</td>\n",
       "      <td>2023-12-21 01:00:00</td>\n",
       "      <td>20.711216</td>\n",
       "      <td>0.032239</td>\n",
       "      <td>1.287622</td>\n",
       "      <td>[Normal]</td>\n",
       "      <td>cherry</td>\n",
       "    </tr>\n",
       "    <tr>\n",
       "      <th>2</th>\n",
       "      <td>1</td>\n",
       "      <td>2023-12-21 02:00:00</td>\n",
       "      <td>20.752923</td>\n",
       "      <td>0.162936</td>\n",
       "      <td>0.721040</td>\n",
       "      <td>[Normal]</td>\n",
       "      <td>cherry</td>\n",
       "    </tr>\n",
       "    <tr>\n",
       "      <th>3</th>\n",
       "      <td>1</td>\n",
       "      <td>2023-12-21 03:00:00</td>\n",
       "      <td>20.752923</td>\n",
       "      <td>0.162936</td>\n",
       "      <td>0.721040</td>\n",
       "      <td>[Normal]</td>\n",
       "      <td>cherry</td>\n",
       "    </tr>\n",
       "    <tr>\n",
       "      <th>4</th>\n",
       "      <td>1</td>\n",
       "      <td>2023-12-21 04:00:00</td>\n",
       "      <td>20.514075</td>\n",
       "      <td>0.074559</td>\n",
       "      <td>0.085129</td>\n",
       "      <td>[Normal]</td>\n",
       "      <td>cherry</td>\n",
       "    </tr>\n",
       "    <tr>\n",
       "      <th>...</th>\n",
       "      <td>...</td>\n",
       "      <td>...</td>\n",
       "      <td>...</td>\n",
       "      <td>...</td>\n",
       "      <td>...</td>\n",
       "      <td>...</td>\n",
       "      <td>...</td>\n",
       "    </tr>\n",
       "    <tr>\n",
       "      <th>84888</th>\n",
       "      <td>157</td>\n",
       "      <td>2024-01-13 18:00:00</td>\n",
       "      <td>0.656095</td>\n",
       "      <td>5.783519</td>\n",
       "      <td>-0.267696</td>\n",
       "      <td>[Normal, Low O2]</td>\n",
       "      <td>cherry</td>\n",
       "    </tr>\n",
       "    <tr>\n",
       "      <th>84889</th>\n",
       "      <td>157</td>\n",
       "      <td>2024-01-13 19:00:00</td>\n",
       "      <td>0.656095</td>\n",
       "      <td>5.783519</td>\n",
       "      <td>-0.267696</td>\n",
       "      <td>[Normal, Low O2]</td>\n",
       "      <td>cherry</td>\n",
       "    </tr>\n",
       "    <tr>\n",
       "      <th>84890</th>\n",
       "      <td>157</td>\n",
       "      <td>2024-01-13 20:00:00</td>\n",
       "      <td>0.479308</td>\n",
       "      <td>5.470705</td>\n",
       "      <td>-0.487633</td>\n",
       "      <td>[Normal, Low O2]</td>\n",
       "      <td>cherry</td>\n",
       "    </tr>\n",
       "    <tr>\n",
       "      <th>84891</th>\n",
       "      <td>157</td>\n",
       "      <td>2024-01-13 21:00:00</td>\n",
       "      <td>0.479308</td>\n",
       "      <td>5.470705</td>\n",
       "      <td>-0.487633</td>\n",
       "      <td>[Normal, Low O2]</td>\n",
       "      <td>cherry</td>\n",
       "    </tr>\n",
       "    <tr>\n",
       "      <th>84892</th>\n",
       "      <td>157</td>\n",
       "      <td>2024-01-13 22:00:00</td>\n",
       "      <td>0.704670</td>\n",
       "      <td>5.316570</td>\n",
       "      <td>-0.508086</td>\n",
       "      <td>[Normal, Low O2]</td>\n",
       "      <td>cherry</td>\n",
       "    </tr>\n",
       "  </tbody>\n",
       "</table>\n",
       "<p>84893 rows × 7 columns</p>\n",
       "</div>"
      ],
      "text/plain": [
       "       Sensor ID                 Date         o2       co2      temp  \\\n",
       "0              1  2023-12-21 00:00:00  20.711216  0.032239  1.287622   \n",
       "1              1  2023-12-21 01:00:00  20.711216  0.032239  1.287622   \n",
       "2              1  2023-12-21 02:00:00  20.752923  0.162936  0.721040   \n",
       "3              1  2023-12-21 03:00:00  20.752923  0.162936  0.721040   \n",
       "4              1  2023-12-21 04:00:00  20.514075  0.074559  0.085129   \n",
       "...          ...                  ...        ...       ...       ...   \n",
       "84888        157  2024-01-13 18:00:00   0.656095  5.783519 -0.267696   \n",
       "84889        157  2024-01-13 19:00:00   0.656095  5.783519 -0.267696   \n",
       "84890        157  2024-01-13 20:00:00   0.479308  5.470705 -0.487633   \n",
       "84891        157  2024-01-13 21:00:00   0.479308  5.470705 -0.487633   \n",
       "84892        157  2024-01-13 22:00:00   0.704670  5.316570 -0.508086   \n",
       "\n",
       "                  label   fruit  \n",
       "0              [Normal]  cherry  \n",
       "1              [Normal]  cherry  \n",
       "2              [Normal]  cherry  \n",
       "3              [Normal]  cherry  \n",
       "4              [Normal]  cherry  \n",
       "...                 ...     ...  \n",
       "84888  [Normal, Low O2]  cherry  \n",
       "84889  [Normal, Low O2]  cherry  \n",
       "84890  [Normal, Low O2]  cherry  \n",
       "84891  [Normal, Low O2]  cherry  \n",
       "84892  [Normal, Low O2]  cherry  \n",
       "\n",
       "[84893 rows x 7 columns]"
      ]
     },
     "execution_count": 14,
     "metadata": {},
     "output_type": "execute_result"
    }
   ],
   "source": [
    "df"
   ]
  },
  {
   "cell_type": "code",
   "execution_count": 15,
   "metadata": {},
   "outputs": [],
   "source": [
    "mlb = MultiLabelBinarizer()\n",
    "label_encoder = LabelEncoder()"
   ]
  },
  {
   "cell_type": "code",
   "execution_count": 16,
   "metadata": {},
   "outputs": [],
   "source": [
    "binary_labels = mlb.fit_transform(df['label'])\n",
    "df['fruit'] = label_encoder.fit_transform(df['fruit'])"
   ]
  },
  {
   "cell_type": "code",
   "execution_count": 17,
   "metadata": {},
   "outputs": [
    {
     "data": {
      "text/plain": [
       "array(['CO2 Problem', 'Condensation (CO2)', 'Condensation (O2)',\n",
       "       'High CO2', 'High O2', 'Lid Open', 'Low CO2', 'Low O2', 'Normal',\n",
       "       'O2 Problem'], dtype=object)"
      ]
     },
     "execution_count": 17,
     "metadata": {},
     "output_type": "execute_result"
    }
   ],
   "source": [
    "mlb.classes_"
   ]
  },
  {
   "cell_type": "code",
   "execution_count": 18,
   "metadata": {},
   "outputs": [
    {
     "data": {
      "text/plain": [
       "['mlb.pkl']"
      ]
     },
     "execution_count": 18,
     "metadata": {},
     "output_type": "execute_result"
    }
   ],
   "source": [
    "joblib.dump(mlb, 'mlb.pkl')"
   ]
  },
  {
   "cell_type": "code",
   "execution_count": null,
   "metadata": {},
   "outputs": [],
   "source": [
    "binary_labels"
   ]
  },
  {
   "cell_type": "code",
   "execution_count": null,
   "metadata": {},
   "outputs": [],
   "source": [
    "labels_df = pd.DataFrame(binary_labels, columns=mlb.classes_)\n",
    "labels_df"
   ]
  },
  {
   "cell_type": "code",
   "execution_count": null,
   "metadata": {},
   "outputs": [],
   "source": [
    "labels_df.columns = labels_df.columns.str.lower().str.replace(' ', '_').str.replace(r'[()]', '', regex=True)"
   ]
  },
  {
   "cell_type": "code",
   "execution_count": null,
   "metadata": {},
   "outputs": [],
   "source": [
    "labels_df"
   ]
  },
  {
   "cell_type": "code",
   "execution_count": null,
   "metadata": {},
   "outputs": [],
   "source": [
    "processed_df = pd.concat([df.drop('label', axis=1), labels_df], axis=1)"
   ]
  },
  {
   "cell_type": "code",
   "execution_count": null,
   "metadata": {},
   "outputs": [],
   "source": [
    "processed_df.drop(['Sensor ID', 'Date'], axis=1, inplace=True)"
   ]
  },
  {
   "cell_type": "code",
   "execution_count": null,
   "metadata": {},
   "outputs": [],
   "source": [
    "processed_df"
   ]
  },
  {
   "cell_type": "code",
   "execution_count": null,
   "metadata": {},
   "outputs": [],
   "source": [
    "def create_window_size(data, window_size, stride):\n",
    "    X = []\n",
    "    y = []\n",
    "    for i in range(0, len(data) - window_size + 1, stride):\n",
    "        window = data.iloc[i:i + window_size][['o2', 'co2', 'temp', 'fruit']]\n",
    "        flattened_window = window.to_numpy().flatten()\n",
    "        X.append(flattened_window)\n",
    "        y.append(data.iloc[i + window_size - 1][labels_df.columns])\n",
    "    return np.array(X), np.array(y)"
   ]
  },
  {
   "cell_type": "code",
   "execution_count": null,
   "metadata": {},
   "outputs": [],
   "source": [
    "window_size = 48\n",
    "stride = 24\n",
    "X, y = create_window_size(data=processed_df, window_size=window_size, stride=stride)"
   ]
  },
  {
   "cell_type": "code",
   "execution_count": null,
   "metadata": {},
   "outputs": [],
   "source": [
    "X_train, X_test, y_train, y_test = train_test_split(X, y, test_size=0.2, random_state=42, shuffle=False)"
   ]
  },
  {
   "cell_type": "code",
   "execution_count": null,
   "metadata": {},
   "outputs": [],
   "source": [
    "X_train = X_train.reshape((X_train.shape[0], X_train.shape[1], 1))\n",
    "X_test = X_test.reshape((X_test.shape[0], X_test.shape[1], 1))"
   ]
  },
  {
   "cell_type": "code",
   "execution_count": null,
   "metadata": {},
   "outputs": [],
   "source": [
    "X_train.shape, y_train.shape"
   ]
  },
  {
   "cell_type": "code",
   "execution_count": null,
   "metadata": {},
   "outputs": [],
   "source": [
    "X_train_tensor = torch.from_numpy(X_train).float()\n",
    "y_train_tensor = torch.from_numpy(y_train).float()\n",
    "X_test_tensor = torch.from_numpy(X_test).float()\n",
    "y_test_tensor = torch.from_numpy(y_test).float()"
   ]
  },
  {
   "cell_type": "code",
   "execution_count": null,
   "metadata": {},
   "outputs": [],
   "source": [
    "train_dataset = TensorDataset(X_train_tensor, y_train_tensor)\n",
    "test_dataset = TensorDataset(X_test_tensor, y_test_tensor)"
   ]
  },
  {
   "cell_type": "code",
   "execution_count": null,
   "metadata": {},
   "outputs": [],
   "source": [
    "train_loader = DataLoader(train_dataset, batch_size=32, shuffle=False)\n",
    "test_loader = DataLoader(test_dataset, batch_size=32, shuffle=False)"
   ]
  }
 ],
 "metadata": {
  "kernelspec": {
   "display_name": "Python 3",
   "language": "python",
   "name": "python3"
  },
  "language_info": {
   "codemirror_mode": {
    "name": "ipython",
    "version": 3
   },
   "file_extension": ".py",
   "mimetype": "text/x-python",
   "name": "python",
   "nbconvert_exporter": "python",
   "pygments_lexer": "ipython3",
   "version": "3.10.12"
  }
 },
 "nbformat": 4,
 "nbformat_minor": 2
}
